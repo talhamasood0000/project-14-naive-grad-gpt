{
  "cells": [
    {
      "cell_type": "code",
      "execution_count": 1,
      "metadata": {
        "id": "LAd9DsP-XrNy"
      },
      "outputs": [],
      "source": [
        "!pip install --upgrade transformers -q\n",
        "!pip install accelerate -q\n",
        "\n",
        "# GPTQ Dependencies\n",
        "!pip install --upgrade optimum -q\n",
        "!pip install --upgrade auto-gptq -q"
      ]
    },
    {
      "cell_type": "code",
      "source": [
        "!pip install langchain\n",
        "!pip install pypdf\n",
        "!pip install html2text\n",
        "!pip install torch==1.2.0 torchvision==0.4.0 -f\n",
        "!pip install -U sentence-transformers\n",
        "!pip install faiss-cpu"
      ],
      "metadata": {
        "colab": {
          "base_uri": "https://localhost:8080/"
        },
        "id": "ZmlMKu9ouJdB",
        "outputId": "2444730b-03ff-4a02-9435-00baa7b4c507"
      },
      "execution_count": 2,
      "outputs": [
        {
          "output_type": "stream",
          "name": "stdout",
          "text": [
            "Requirement already satisfied: langchain in /usr/local/lib/python3.10/dist-packages (0.1.16)\n",
            "Requirement already satisfied: PyYAML>=5.3 in /usr/local/lib/python3.10/dist-packages (from langchain) (6.0.1)\n",
            "Requirement already satisfied: SQLAlchemy<3,>=1.4 in /usr/local/lib/python3.10/dist-packages (from langchain) (2.0.29)\n",
            "Requirement already satisfied: aiohttp<4.0.0,>=3.8.3 in /usr/local/lib/python3.10/dist-packages (from langchain) (3.9.5)\n",
            "Requirement already satisfied: async-timeout<5.0.0,>=4.0.0 in /usr/local/lib/python3.10/dist-packages (from langchain) (4.0.3)\n",
            "Requirement already satisfied: dataclasses-json<0.7,>=0.5.7 in /usr/local/lib/python3.10/dist-packages (from langchain) (0.6.4)\n",
            "Requirement already satisfied: jsonpatch<2.0,>=1.33 in /usr/local/lib/python3.10/dist-packages (from langchain) (1.33)\n",
            "Requirement already satisfied: langchain-community<0.1,>=0.0.32 in /usr/local/lib/python3.10/dist-packages (from langchain) (0.0.34)\n",
            "Requirement already satisfied: langchain-core<0.2.0,>=0.1.42 in /usr/local/lib/python3.10/dist-packages (from langchain) (0.1.46)\n",
            "Requirement already satisfied: langchain-text-splitters<0.1,>=0.0.1 in /usr/local/lib/python3.10/dist-packages (from langchain) (0.0.1)\n",
            "Requirement already satisfied: langsmith<0.2.0,>=0.1.17 in /usr/local/lib/python3.10/dist-packages (from langchain) (0.1.51)\n",
            "Requirement already satisfied: numpy<2,>=1 in /usr/local/lib/python3.10/dist-packages (from langchain) (1.25.2)\n",
            "Requirement already satisfied: pydantic<3,>=1 in /usr/local/lib/python3.10/dist-packages (from langchain) (2.7.0)\n",
            "Requirement already satisfied: requests<3,>=2 in /usr/local/lib/python3.10/dist-packages (from langchain) (2.31.0)\n",
            "Requirement already satisfied: tenacity<9.0.0,>=8.1.0 in /usr/local/lib/python3.10/dist-packages (from langchain) (8.2.3)\n",
            "Requirement already satisfied: aiosignal>=1.1.2 in /usr/local/lib/python3.10/dist-packages (from aiohttp<4.0.0,>=3.8.3->langchain) (1.3.1)\n",
            "Requirement already satisfied: attrs>=17.3.0 in /usr/local/lib/python3.10/dist-packages (from aiohttp<4.0.0,>=3.8.3->langchain) (23.2.0)\n",
            "Requirement already satisfied: frozenlist>=1.1.1 in /usr/local/lib/python3.10/dist-packages (from aiohttp<4.0.0,>=3.8.3->langchain) (1.4.1)\n",
            "Requirement already satisfied: multidict<7.0,>=4.5 in /usr/local/lib/python3.10/dist-packages (from aiohttp<4.0.0,>=3.8.3->langchain) (6.0.5)\n",
            "Requirement already satisfied: yarl<2.0,>=1.0 in /usr/local/lib/python3.10/dist-packages (from aiohttp<4.0.0,>=3.8.3->langchain) (1.9.4)\n",
            "Requirement already satisfied: marshmallow<4.0.0,>=3.18.0 in /usr/local/lib/python3.10/dist-packages (from dataclasses-json<0.7,>=0.5.7->langchain) (3.21.1)\n",
            "Requirement already satisfied: typing-inspect<1,>=0.4.0 in /usr/local/lib/python3.10/dist-packages (from dataclasses-json<0.7,>=0.5.7->langchain) (0.9.0)\n",
            "Requirement already satisfied: jsonpointer>=1.9 in /usr/local/lib/python3.10/dist-packages (from jsonpatch<2.0,>=1.33->langchain) (2.4)\n",
            "Requirement already satisfied: packaging<24.0,>=23.2 in /usr/local/lib/python3.10/dist-packages (from langchain-core<0.2.0,>=0.1.42->langchain) (23.2)\n",
            "Requirement already satisfied: orjson<4.0.0,>=3.9.14 in /usr/local/lib/python3.10/dist-packages (from langsmith<0.2.0,>=0.1.17->langchain) (3.10.1)\n",
            "Requirement already satisfied: annotated-types>=0.4.0 in /usr/local/lib/python3.10/dist-packages (from pydantic<3,>=1->langchain) (0.6.0)\n",
            "Requirement already satisfied: pydantic-core==2.18.1 in /usr/local/lib/python3.10/dist-packages (from pydantic<3,>=1->langchain) (2.18.1)\n",
            "Requirement already satisfied: typing-extensions>=4.6.1 in /usr/local/lib/python3.10/dist-packages (from pydantic<3,>=1->langchain) (4.11.0)\n",
            "Requirement already satisfied: charset-normalizer<4,>=2 in /usr/local/lib/python3.10/dist-packages (from requests<3,>=2->langchain) (3.3.2)\n",
            "Requirement already satisfied: idna<4,>=2.5 in /usr/local/lib/python3.10/dist-packages (from requests<3,>=2->langchain) (3.7)\n",
            "Requirement already satisfied: urllib3<3,>=1.21.1 in /usr/local/lib/python3.10/dist-packages (from requests<3,>=2->langchain) (2.0.7)\n",
            "Requirement already satisfied: certifi>=2017.4.17 in /usr/local/lib/python3.10/dist-packages (from requests<3,>=2->langchain) (2024.2.2)\n",
            "Requirement already satisfied: greenlet!=0.4.17 in /usr/local/lib/python3.10/dist-packages (from SQLAlchemy<3,>=1.4->langchain) (3.0.3)\n",
            "Requirement already satisfied: mypy-extensions>=0.3.0 in /usr/local/lib/python3.10/dist-packages (from typing-inspect<1,>=0.4.0->dataclasses-json<0.7,>=0.5.7->langchain) (1.0.0)\n",
            "Requirement already satisfied: pypdf in /usr/local/lib/python3.10/dist-packages (4.2.0)\n",
            "Requirement already satisfied: typing_extensions>=4.0 in /usr/local/lib/python3.10/dist-packages (from pypdf) (4.11.0)\n",
            "Requirement already satisfied: html2text in /usr/local/lib/python3.10/dist-packages (2024.2.26)\n",
            "\n",
            "Usage:   \n",
            "  pip3 install [options] <requirement specifier> [package-index-options] ...\n",
            "  pip3 install [options] -r <requirements file> [package-index-options] ...\n",
            "  pip3 install [options] [-e] <vcs project url> ...\n",
            "  pip3 install [options] [-e] <local project path> ...\n",
            "  pip3 install [options] <archive url/path> ...\n",
            "\n",
            "-f option requires 1 argument\n",
            "Requirement already satisfied: sentence-transformers in /usr/local/lib/python3.10/dist-packages (2.7.0)\n",
            "Requirement already satisfied: transformers<5.0.0,>=4.34.0 in /usr/local/lib/python3.10/dist-packages (from sentence-transformers) (4.40.1)\n",
            "Requirement already satisfied: tqdm in /usr/local/lib/python3.10/dist-packages (from sentence-transformers) (4.66.2)\n",
            "Requirement already satisfied: torch>=1.11.0 in /usr/local/lib/python3.10/dist-packages (from sentence-transformers) (2.2.1+cu121)\n",
            "Requirement already satisfied: numpy in /usr/local/lib/python3.10/dist-packages (from sentence-transformers) (1.25.2)\n",
            "Requirement already satisfied: scikit-learn in /usr/local/lib/python3.10/dist-packages (from sentence-transformers) (1.2.2)\n",
            "Requirement already satisfied: scipy in /usr/local/lib/python3.10/dist-packages (from sentence-transformers) (1.11.4)\n",
            "Requirement already satisfied: huggingface-hub>=0.15.1 in /usr/local/lib/python3.10/dist-packages (from sentence-transformers) (0.22.2)\n",
            "Requirement already satisfied: Pillow in /usr/local/lib/python3.10/dist-packages (from sentence-transformers) (9.4.0)\n",
            "Requirement already satisfied: filelock in /usr/local/lib/python3.10/dist-packages (from huggingface-hub>=0.15.1->sentence-transformers) (3.13.4)\n",
            "Requirement already satisfied: fsspec>=2023.5.0 in /usr/local/lib/python3.10/dist-packages (from huggingface-hub>=0.15.1->sentence-transformers) (2023.6.0)\n",
            "Requirement already satisfied: packaging>=20.9 in /usr/local/lib/python3.10/dist-packages (from huggingface-hub>=0.15.1->sentence-transformers) (23.2)\n",
            "Requirement already satisfied: pyyaml>=5.1 in /usr/local/lib/python3.10/dist-packages (from huggingface-hub>=0.15.1->sentence-transformers) (6.0.1)\n",
            "Requirement already satisfied: requests in /usr/local/lib/python3.10/dist-packages (from huggingface-hub>=0.15.1->sentence-transformers) (2.31.0)\n",
            "Requirement already satisfied: typing-extensions>=3.7.4.3 in /usr/local/lib/python3.10/dist-packages (from huggingface-hub>=0.15.1->sentence-transformers) (4.11.0)\n",
            "Requirement already satisfied: sympy in /usr/local/lib/python3.10/dist-packages (from torch>=1.11.0->sentence-transformers) (1.12)\n",
            "Requirement already satisfied: networkx in /usr/local/lib/python3.10/dist-packages (from torch>=1.11.0->sentence-transformers) (3.3)\n",
            "Requirement already satisfied: jinja2 in /usr/local/lib/python3.10/dist-packages (from torch>=1.11.0->sentence-transformers) (3.1.3)\n",
            "Requirement already satisfied: nvidia-cuda-nvrtc-cu12==12.1.105 in /usr/local/lib/python3.10/dist-packages (from torch>=1.11.0->sentence-transformers) (12.1.105)\n",
            "Requirement already satisfied: nvidia-cuda-runtime-cu12==12.1.105 in /usr/local/lib/python3.10/dist-packages (from torch>=1.11.0->sentence-transformers) (12.1.105)\n",
            "Requirement already satisfied: nvidia-cuda-cupti-cu12==12.1.105 in /usr/local/lib/python3.10/dist-packages (from torch>=1.11.0->sentence-transformers) (12.1.105)\n",
            "Requirement already satisfied: nvidia-cudnn-cu12==8.9.2.26 in /usr/local/lib/python3.10/dist-packages (from torch>=1.11.0->sentence-transformers) (8.9.2.26)\n",
            "Requirement already satisfied: nvidia-cublas-cu12==12.1.3.1 in /usr/local/lib/python3.10/dist-packages (from torch>=1.11.0->sentence-transformers) (12.1.3.1)\n",
            "Requirement already satisfied: nvidia-cufft-cu12==11.0.2.54 in /usr/local/lib/python3.10/dist-packages (from torch>=1.11.0->sentence-transformers) (11.0.2.54)\n",
            "Requirement already satisfied: nvidia-curand-cu12==10.3.2.106 in /usr/local/lib/python3.10/dist-packages (from torch>=1.11.0->sentence-transformers) (10.3.2.106)\n",
            "Requirement already satisfied: nvidia-cusolver-cu12==11.4.5.107 in /usr/local/lib/python3.10/dist-packages (from torch>=1.11.0->sentence-transformers) (11.4.5.107)\n",
            "Requirement already satisfied: nvidia-cusparse-cu12==12.1.0.106 in /usr/local/lib/python3.10/dist-packages (from torch>=1.11.0->sentence-transformers) (12.1.0.106)\n",
            "Requirement already satisfied: nvidia-nccl-cu12==2.19.3 in /usr/local/lib/python3.10/dist-packages (from torch>=1.11.0->sentence-transformers) (2.19.3)\n",
            "Requirement already satisfied: nvidia-nvtx-cu12==12.1.105 in /usr/local/lib/python3.10/dist-packages (from torch>=1.11.0->sentence-transformers) (12.1.105)\n",
            "Requirement already satisfied: triton==2.2.0 in /usr/local/lib/python3.10/dist-packages (from torch>=1.11.0->sentence-transformers) (2.2.0)\n",
            "Requirement already satisfied: nvidia-nvjitlink-cu12 in /usr/local/lib/python3.10/dist-packages (from nvidia-cusolver-cu12==11.4.5.107->torch>=1.11.0->sentence-transformers) (12.4.127)\n",
            "Requirement already satisfied: regex!=2019.12.17 in /usr/local/lib/python3.10/dist-packages (from transformers<5.0.0,>=4.34.0->sentence-transformers) (2023.12.25)\n",
            "Requirement already satisfied: tokenizers<0.20,>=0.19 in /usr/local/lib/python3.10/dist-packages (from transformers<5.0.0,>=4.34.0->sentence-transformers) (0.19.1)\n",
            "Requirement already satisfied: safetensors>=0.4.1 in /usr/local/lib/python3.10/dist-packages (from transformers<5.0.0,>=4.34.0->sentence-transformers) (0.4.3)\n",
            "Requirement already satisfied: joblib>=1.1.1 in /usr/local/lib/python3.10/dist-packages (from scikit-learn->sentence-transformers) (1.4.0)\n",
            "Requirement already satisfied: threadpoolctl>=2.0.0 in /usr/local/lib/python3.10/dist-packages (from scikit-learn->sentence-transformers) (3.4.0)\n",
            "Requirement already satisfied: MarkupSafe>=2.0 in /usr/local/lib/python3.10/dist-packages (from jinja2->torch>=1.11.0->sentence-transformers) (2.1.5)\n",
            "Requirement already satisfied: charset-normalizer<4,>=2 in /usr/local/lib/python3.10/dist-packages (from requests->huggingface-hub>=0.15.1->sentence-transformers) (3.3.2)\n",
            "Requirement already satisfied: idna<4,>=2.5 in /usr/local/lib/python3.10/dist-packages (from requests->huggingface-hub>=0.15.1->sentence-transformers) (3.7)\n",
            "Requirement already satisfied: urllib3<3,>=1.21.1 in /usr/local/lib/python3.10/dist-packages (from requests->huggingface-hub>=0.15.1->sentence-transformers) (2.0.7)\n",
            "Requirement already satisfied: certifi>=2017.4.17 in /usr/local/lib/python3.10/dist-packages (from requests->huggingface-hub>=0.15.1->sentence-transformers) (2024.2.2)\n",
            "Requirement already satisfied: mpmath>=0.19 in /usr/local/lib/python3.10/dist-packages (from sympy->torch>=1.11.0->sentence-transformers) (1.3.0)\n",
            "Requirement already satisfied: faiss-cpu in /usr/local/lib/python3.10/dist-packages (1.8.0)\n",
            "Requirement already satisfied: numpy in /usr/local/lib/python3.10/dist-packages (from faiss-cpu) (1.25.2)\n"
          ]
        }
      ]
    },
    {
      "cell_type": "code",
      "source": [
        "from langchain.text_splitter import CharacterTextSplitter\n",
        "from langchain.document_transformers import Html2TextTransformer\n",
        "from langchain.vectorstores import FAISS\n",
        "import nest_asyncio\n",
        "from langchain_community.embeddings import HuggingFaceEmbeddings\n",
        "from langchain_community.document_loaders import TextLoader\n",
        "\n",
        "from pathlib import Path\n",
        "from langchain.document_loaders.pdf import PyPDFDirectoryLoader\n",
        "\n",
        "path=\"/content/game.txt\"\n",
        "\n",
        "def make_vdb():\n",
        "\n",
        "  loader = TextLoader(path)\n",
        "  doc=loader.load()\n",
        "\n",
        "\n",
        "\n",
        "  # document_loader=PyPDFDirectoryLoader(path)\n",
        "\n",
        "  # docs = document_loader.load()\n",
        "\n",
        "  # # Converts HTML to plain text\n",
        "  # html2text = Html2TextTransformer()\n",
        "  # docs_transformed = html2text.transform_documents(docs)\n",
        "\n",
        "  # Chunk text\n",
        "  text_splitter = CharacterTextSplitter(chunk_size=10,\n",
        "                                        chunk_overlap=0)\n",
        "  chunked_documents = text_splitter.split_documents(doc)\n",
        "\n",
        "  embeddings=HuggingFaceEmbeddings(model_name='sentence-transformers/all-mpnet-base-v2')\n",
        "  # Load chunked documents into the FAISS index\n",
        "  db = FAISS.from_documents(chunked_documents, embeddings)\n",
        "\n",
        "\n",
        "  # Connect query to FAISS index using a retriever\n",
        "  retriever = db.as_retriever(\n",
        "      search_type=\"similarity\",\n",
        "      search_kwargs={'k': 3}\n",
        "  )\n",
        "\n",
        "\n",
        "  folder_path = Path(\"/content/faiss_index\")\n",
        "\n",
        "  if folder_path.exists():\n",
        "    old_db = FAISS.load_local(\"/content/faiss_index\", embeddings,allow_dangerous_deserialization=True)\n",
        "    db.merge_from(old_db)\n",
        "    db.save_local(\"/content/faiss_index\")\n",
        "    return db\n",
        "\n",
        "  else:\n",
        "    db.save_local(\"/content/faiss_index\")\n",
        "    return db\n",
        "\n",
        "\n",
        "\n",
        "def make_rag_query(query,db):\n",
        "  docs = db.similarity_search(query)\n",
        "  result=docs[0].page_content\n",
        "  return result"
      ],
      "metadata": {
        "id": "XtvuPNsOuTve"
      },
      "execution_count": 18,
      "outputs": []
    },
    {
      "cell_type": "code",
      "source": [
        "def save_to_txt(content):\n",
        "    filename=\"/content/game.txt\"\n",
        "    with open(filename, 'w') as file:\n",
        "        file.write(content)"
      ],
      "metadata": {
        "id": "gzlMupFPwOyE"
      },
      "execution_count": 4,
      "outputs": []
    },
    {
      "cell_type": "code",
      "execution_count": 5,
      "metadata": {
        "id": "ahmEAaVqqOSL"
      },
      "outputs": [],
      "source": [
        "from transformers import AutoModelForCausalLM, AutoTokenizer, pipeline\n",
        "import sys, json"
      ]
    },
    {
      "cell_type": "code",
      "execution_count": 6,
      "metadata": {
        "id": "W6Y_qRV2RUi6",
        "colab": {
          "base_uri": "https://localhost:8080/"
        },
        "outputId": "22d14784-8fc3-4422-ce5d-1f43e721612d"
      },
      "outputs": [
        {
          "output_type": "stream",
          "name": "stderr",
          "text": [
            "/usr/local/lib/python3.10/dist-packages/huggingface_hub/utils/_token.py:89: UserWarning: \n",
            "The secret `HF_TOKEN` does not exist in your Colab secrets.\n",
            "To authenticate with the Hugging Face Hub, create a token in your settings tab (https://huggingface.co/settings/tokens), set it as secret in your Google Colab and restart your session.\n",
            "You will be able to reuse this secret in all of your notebooks.\n",
            "Please note that authentication is recommended but still optional to access public models or datasets.\n",
            "  warnings.warn(\n"
          ]
        }
      ],
      "source": [
        "model_id = \"TheBloke/Mistral-7B-Instruct-v0.2-GPTQ\"\n",
        "tokenizer = AutoTokenizer.from_pretrained(\n",
        "    model_id,\n",
        "    padding=True,\n",
        "    pad_side = \"left\",\n",
        "    use_fast=True\n",
        ")\n",
        "tokenizer.pad_token = tokenizer.eos_token"
      ]
    },
    {
      "cell_type": "code",
      "execution_count": 7,
      "metadata": {
        "colab": {
          "base_uri": "https://localhost:8080/"
        },
        "id": "c6hSuwJPfbmL",
        "outputId": "59e285d5-4703-47ce-bb4c-8e78352e4458"
      },
      "outputs": [
        {
          "output_type": "stream",
          "name": "stderr",
          "text": [
            "/usr/local/lib/python3.10/dist-packages/transformers/modeling_utils.py:4371: FutureWarning: `_is_quantized_training_enabled` is going to be deprecated in transformers 4.39.0. Please use `model.hf_quantizer.is_trainable` instead\n",
            "  warnings.warn(\n"
          ]
        }
      ],
      "source": [
        "model = AutoModelForCausalLM.from_pretrained(\n",
        "    model_id,\n",
        "    device_map=\"auto\",\n",
        "    trust_remote_code=False,\n",
        "    revision=\"main\"\n",
        "    )"
      ]
    },
    {
      "cell_type": "code",
      "execution_count": 8,
      "metadata": {
        "id": "1LvW6Kv3qaG6"
      },
      "outputs": [],
      "source": [
        "# Create a pipeline\n",
        "pipe = pipeline(\n",
        "    task='text-generation',\n",
        "    model=model,\n",
        "    tokenizer=tokenizer,\n",
        "    max_new_tokens=1024,\n",
        "    do_sample=True, # creative generation by discouraging greedy decoding\n",
        "    temperature=0.75,\n",
        "    top_p=0.95,\n",
        "    return_full_text = False  # Only return the current output instead of returning complete prompt\n",
        "    )"
      ]
    },
    {
      "cell_type": "code",
      "source": [
        "\n",
        "def parse_first_json(json_str):\n",
        "    end_index = json_str.find(\"}\") # Find the index of the first closing curly brace\n",
        "    if end_index != -1:  # If a closing brace is found\n",
        "        first_json_obj = json_str[:end_index + 1] # Parse the substring containing the first JSON object\n",
        "        parsed_json = json.loads(first_json_obj) # Parse the JSON object\n",
        "        return parsed_json\n",
        "    else:\n",
        "        return None\n",
        "\n",
        "def rag_optimize(context,query):\n",
        "\n",
        "    system = f\"\"\"\n",
        "    You are excellent at creating simplified statemnet about the context given to you. Use this simplified statement to answer the question [{query}]. The answer must be concise.\n",
        "    [{context}]\n",
        "\n",
        "    \"\"\"\n",
        "\n",
        "    # one-shot prompting\n",
        "    chat = [\n",
        "      {\"role\": \"user\", \"content\": system}\n",
        "    ]\n",
        "\n",
        "    # prepare the prompt using the chat template\n",
        "    prompt = tokenizer.apply_chat_template(chat, tokenize=False)\n",
        "    # run the pipeline to generate the model output\n",
        "    outputs = pipe(prompt)\n",
        "    output = outputs[0][\"generated_text\"].strip()\n",
        "    return output\n"
      ],
      "metadata": {
        "id": "MPyIBw-6RnL4"
      },
      "execution_count": 17,
      "outputs": []
    },
    {
      "cell_type": "code",
      "execution_count": 15,
      "metadata": {
        "colab": {
          "base_uri": "https://localhost:8080/",
          "height": 1000
        },
        "id": "vbX7tRYZjYt-",
        "outputId": "e793e204-7c45-41c4-9ae2-2e9e5bf7fe39"
      },
      "outputs": [
        {
          "output_type": "stream",
          "name": "stdout",
          "text": [
            "You find yourself in a dark forest, surrounded by strange and mystical creatures. With no memory of how you got there, you must make a decision.\n",
            "Follow the sound of water and hope to find civilization.\n",
            "Investigate the strange creatures and try to communicate with them.\n",
            "Search for any clues that might help you remember your past.\n",
            "> Follow the sound of water and hope to find civilization.\n",
            "\n",
            ".....................................\n",
            "story_for_rag  You find yourself in a dark forest, surrounded by strange and mystical creatures. With no memory of how you got there, you must make a decision.\n",
            ".....................................\n",
            "As you tread carefully through the dark forest, strange and mystical creatures watching you with curiosity, you hear the sound of water growing louder. Your heart races with hope, but danger lurks around every corner. Make a decision.\n",
            "Follow the sound of water and hope to find civilization.\n",
            "Seek shelter and rest to regain strength.\n",
            "Attempt to communicate with the creatures and learn more about this mystical land.\n",
            "> Seek shelter and rest to regain strength.\n",
            "\n",
            ".....................................\n",
            "story_for_rag  As you tread carefully through the dark forest, strange and mystical creatures watching you with curiosity, you hear the sound of water growing louder. Your heart races with hope, but danger lurks around every corner. Make a decision.\n",
            ".....................................\n",
            "As you tread carefully through the dark forest, strange and mystical creatures watching you with curiosity, you hear the sound of water growing louder. Your heart races with hope, but danger lurks around every corner. Make a decision.\n",
            "Follow the sound of water and hope to find civilization.\n",
            "Seek shelter and rest to regain strength.\n",
            "Investigate the source of the water, despite the potential danger.\n",
            "> Follow the sound of water and hope to find civilization.\n",
            "\n",
            ".....................................\n",
            "story_for_rag  As you tread carefully through the dark forest, strange and mystical creatures watching you with curiosity, you hear the sound of water growing louder. Your heart races with hope, but danger lurks around every corner. Make a decision.\n",
            ".....................................\n",
            "As you tread carefully through the dark forest, strange and mystical creatures watching you with curiosity, you hear the sound of water growing louder. Your heart races with hope, but danger lurks around every corner. Make a decision.\n",
            "Follow the sound of water and hope to find civilization.\n",
            "Seek shelter and rest to regain strength.\n",
            "Attempt to communicate with the mystical creatures.\n",
            "> Attempt to communicate with the mystical creatures.\n",
            "\n",
            ".....................................\n",
            "story_for_rag  As you tread carefully through the dark forest, strange and mystical creatures watching you with curiosity, you hear the sound of water growing louder. Your heart races with hope, but danger lurks around every corner. Make a decision.\n",
            ".....................................\n",
            "As you tread carefully through the dark forest, strange and mystical creatures watching you with curiosity, you hear the sound of water growing louder. Your heart races with hope, but danger lurks around every corner. Make a decision.\n",
            "Follow the sound of water and hope to find civilization.\n",
            "Seek shelter and rest to regain strength.\n",
            "Attempt to communicate with the mystical creatures.\n",
            "> Follow the sound of water and hope to find civilization.\n",
            "\n",
            ".....................................\n",
            "story_for_rag  As you tread carefully through the dark forest, strange and mystical creatures watching you with curiosity, you hear the sound of water growing louder. Your heart races with hope, but danger lurks around every corner. Make a decision.\n",
            ".....................................\n",
            "As you follow the sound of water, the forest around you begins to thin, and the first glimmers of civilization come into view. But just as you allow yourself to breathe a sigh of relief, a figure steps out from the shadows. It's a bandit, and he demands that you hand over any valuables.\n",
            "Give the bandit your valuables and continue on your journey.\n",
            "Fight the bandit and risk injury or death.\n",
            "Attempt to reason with the bandit and convince him to let you pass.\n",
            "> Fight the bandit and risk injury or death.\n",
            "\n",
            ".....................................\n",
            "story_for_rag  As you follow the sound of water, the forest around you begins to thin, and the first glimmers of civilization come into view. But just as you allow yourself to breathe a sigh of relief, a figure steps out from the shadows. It's a bandit, and he demands that you hand over any valuables.\n",
            ".....................................\n",
            "As you follow the sound of water in the dark forest, hoping to find civilization, a figure steps out from the shadows. It's a bandit, and he demands that you hand over any valuables. Make a decision.\n",
            "Fight the bandit and risk injury or death.\n",
            "Hand over your valuables and hope to avoid further harm.\n",
            "Try to reason with the bandit and negotiate a peaceful solution.\n",
            "> Try to reason with the bandit and negotiate a peaceful solution.\n",
            "\n",
            ".....................................\n",
            "story_for_rag  As you follow the sound of water in the dark forest, hoping to find civilization, a figure steps out from the shadows. It's a bandit, and he demands that you hand over any valuables. Make a decision.\n",
            ".....................................\n",
            "As you follow the sound of water in the dark forest, hoping to find civilization, a figure steps out from the shadows. It's a bandit, and he demands that you hand over any valuables. Make a decision.\n",
            "Fight the bandit and risk injury or death.\n",
            "Try to reason with the bandit and negotiate a peaceful solution.\n",
            "Attempt to escape and leave your valuables behind\n",
            "> Attempt to escape and leave your valuables behind\n",
            "\n",
            ".....................................\n",
            "story_for_rag  As you follow the sound of water in the dark forest, hoping to find civilization, a figure steps out from the shadows. It's a bandit, and he demands that you hand over any valuables. Make a decision.\n",
            ".....................................\n",
            "As you follow the sound of water in the dark forest, hoping to find civilization, a figure steps out from the shadows. It's a bandit, and he demands that you hand over any valuables. Make a decision.\n",
            "Fight the bandit and risk injury or death.\n",
            "Try to reason with the bandit and negotiate a peaceful solution.\n",
            "Attempt to escape and leave your valuables behind\n",
            "> what did the bandit demand?\n",
            "\n",
            ".....................................\n",
            "story_for_rag  As you follow the sound of water in the dark forest, hoping to find civilization, a figure steps out from the shadows. It's a bandit, and he demands that you hand over any valuables. Make a decision.\n",
            ".....................................\n",
            "Query answer:  As you follow the sound of water, the forest around you begins to thin, and the first glimmers of civilization come into view. But just as you allow yourself to breathe a sigh of relief, a figure steps out from the shadows. It's a bandit, and he demands that you hand over any valuables.\n",
            "As you follow the sound of water in the dark forest, hoping to find civilization, a figure steps out from the shadows. It's a bandit, and he demands that you hand over any valuables.\n",
            "Fight the bandit and risk injury or death.\n",
            "Try to reason with the bandit and negotiate a peaceful solution.\n",
            "Attempt to escape and leave your valuables behind\n"
          ]
        },
        {
          "output_type": "error",
          "ename": "KeyboardInterrupt",
          "evalue": "Interrupted by user",
          "traceback": [
            "\u001b[0;31m---------------------------------------------------------------------------\u001b[0m",
            "\u001b[0;31mKeyboardInterrupt\u001b[0m                         Traceback (most recent call last)",
            "\u001b[0;32m<ipython-input-15-623f1f611d2b>\u001b[0m in \u001b[0;36m<cell line: 12>\u001b[0;34m()\u001b[0m\n\u001b[1;32m     72\u001b[0m   \u001b[0mprint\u001b[0m\u001b[0;34m(\u001b[0m\u001b[0mnarrative\u001b[0m\u001b[0;34m)\u001b[0m\u001b[0;34m\u001b[0m\u001b[0;34m\u001b[0m\u001b[0m\n\u001b[1;32m     73\u001b[0m   \u001b[0;34m[\u001b[0m\u001b[0mprint\u001b[0m\u001b[0;34m(\u001b[0m\u001b[0mopt\u001b[0m\u001b[0;34m)\u001b[0m \u001b[0;32mfor\u001b[0m \u001b[0mopt\u001b[0m \u001b[0;32min\u001b[0m \u001b[0moptions\u001b[0m\u001b[0;34m]\u001b[0m\u001b[0;34m\u001b[0m\u001b[0;34m\u001b[0m\u001b[0m\n\u001b[0;32m---> 74\u001b[0;31m   \u001b[0muser_input\u001b[0m \u001b[0;34m=\u001b[0m \u001b[0minput\u001b[0m\u001b[0;34m(\u001b[0m\u001b[0;34m\"> \"\u001b[0m\u001b[0;34m)\u001b[0m\u001b[0;34m\u001b[0m\u001b[0;34m\u001b[0m\u001b[0m\n\u001b[0m\u001b[1;32m     75\u001b[0m   \u001b[0mprint\u001b[0m\u001b[0;34m(\u001b[0m\u001b[0;34m\"\"\u001b[0m\u001b[0;34m)\u001b[0m\u001b[0;34m\u001b[0m\u001b[0;34m\u001b[0m\u001b[0m\n\u001b[1;32m     76\u001b[0m \u001b[0;34m\u001b[0m\u001b[0m\n",
            "\u001b[0;32m/usr/local/lib/python3.10/dist-packages/ipykernel/kernelbase.py\u001b[0m in \u001b[0;36mraw_input\u001b[0;34m(self, prompt)\u001b[0m\n\u001b[1;32m    849\u001b[0m                 \u001b[0;34m\"raw_input was called, but this frontend does not support input requests.\"\u001b[0m\u001b[0;34m\u001b[0m\u001b[0;34m\u001b[0m\u001b[0m\n\u001b[1;32m    850\u001b[0m             )\n\u001b[0;32m--> 851\u001b[0;31m         return self._input_request(str(prompt),\n\u001b[0m\u001b[1;32m    852\u001b[0m             \u001b[0mself\u001b[0m\u001b[0;34m.\u001b[0m\u001b[0m_parent_ident\u001b[0m\u001b[0;34m,\u001b[0m\u001b[0;34m\u001b[0m\u001b[0;34m\u001b[0m\u001b[0m\n\u001b[1;32m    853\u001b[0m             \u001b[0mself\u001b[0m\u001b[0;34m.\u001b[0m\u001b[0m_parent_header\u001b[0m\u001b[0;34m,\u001b[0m\u001b[0;34m\u001b[0m\u001b[0;34m\u001b[0m\u001b[0m\n",
            "\u001b[0;32m/usr/local/lib/python3.10/dist-packages/ipykernel/kernelbase.py\u001b[0m in \u001b[0;36m_input_request\u001b[0;34m(self, prompt, ident, parent, password)\u001b[0m\n\u001b[1;32m    893\u001b[0m             \u001b[0;32mexcept\u001b[0m \u001b[0mKeyboardInterrupt\u001b[0m\u001b[0;34m:\u001b[0m\u001b[0;34m\u001b[0m\u001b[0;34m\u001b[0m\u001b[0m\n\u001b[1;32m    894\u001b[0m                 \u001b[0;31m# re-raise KeyboardInterrupt, to truncate traceback\u001b[0m\u001b[0;34m\u001b[0m\u001b[0;34m\u001b[0m\u001b[0m\n\u001b[0;32m--> 895\u001b[0;31m                 \u001b[0;32mraise\u001b[0m \u001b[0mKeyboardInterrupt\u001b[0m\u001b[0;34m(\u001b[0m\u001b[0;34m\"Interrupted by user\"\u001b[0m\u001b[0;34m)\u001b[0m \u001b[0;32mfrom\u001b[0m \u001b[0;32mNone\u001b[0m\u001b[0;34m\u001b[0m\u001b[0;34m\u001b[0m\u001b[0m\n\u001b[0m\u001b[1;32m    896\u001b[0m             \u001b[0;32mexcept\u001b[0m \u001b[0mException\u001b[0m \u001b[0;32mas\u001b[0m \u001b[0me\u001b[0m\u001b[0;34m:\u001b[0m\u001b[0;34m\u001b[0m\u001b[0;34m\u001b[0m\u001b[0m\n\u001b[1;32m    897\u001b[0m                 \u001b[0mself\u001b[0m\u001b[0;34m.\u001b[0m\u001b[0mlog\u001b[0m\u001b[0;34m.\u001b[0m\u001b[0mwarning\u001b[0m\u001b[0;34m(\u001b[0m\u001b[0;34m\"Invalid Message:\"\u001b[0m\u001b[0;34m,\u001b[0m \u001b[0mexc_info\u001b[0m\u001b[0;34m=\u001b[0m\u001b[0;32mTrue\u001b[0m\u001b[0;34m)\u001b[0m\u001b[0;34m\u001b[0m\u001b[0;34m\u001b[0m\u001b[0m\n",
            "\u001b[0;31mKeyboardInterrupt\u001b[0m: Interrupted by user"
          ]
        }
      ],
      "source": [
        "\n",
        "\n",
        "story = \"\"\n",
        "story_for_rag=\"\"\n",
        "for _ in range(10):\n",
        "\n",
        "  # system = f\"\"\"\n",
        "  # Starting from now, assume the role of an expert interactive fiction writer who specializes in crafting short, engaging, and captivating multiple-choice narratvies. \\\n",
        "  # Your task is to generate a small narrative of no more than 50 words continuing the story so far provided to you in the square brackets. \\\n",
        "  # Give 3 choices, that is, 3 possible continuations of the story for the current narrative. Every time you must only return a single JSON object with the follwoing three keys strictly following the provided description:\n",
        "  # {{\n",
        "  # \"story\": string, current generated narrative continuing the past story provided below in square brackets.\n",
        "  # \"options\": list, a list containing three string-type elements corresponding to the 3 options.\n",
        "  # }}\n",
        "  # Do not generate anything other than the JSON object inside {{}}.\n",
        "  # \"\"\"\n",
        "  system = f\"\"\"\n",
        "  Embark on a journey as the virtuoso architect of interactive fiction, celebrated for crafting mesmerizing tales. Your quest: expand the narrative provided below in square brackets,\n",
        "  sculpting a storyline no longer than 50 words. Offer three captivating choices, each laden with unique consequences and a measure of destruction points.\n",
        "  Present them within a JSON object featuring \"story,\" \"options,\" and \"destruction_points\" keys.\n",
        "\n",
        "  If the user seeks enlightenment, be prepared to unveil detailed explanations for each scenario, guiding them through the intricacies of your narrative world.\n",
        "\n",
        "  Before you, lies the vast canvas of imagination. Paint your tale with finesse, for with each brushstroke, the destiny of your narrative universe unfolds.\n",
        "\n",
        "  {{\n",
        "  \"story\": string, (Continue the narrative from the provided story)\n",
        "  \"options\": list, (Present three distinct choices)\n",
        "  \"destruction_points\": list, (Assign destruction points to each option)\n",
        "  }}\n",
        "\n",
        "  Delve deep, weave your magic, and let your creativity illuminate the path to storytelling greatness!\n",
        "  Output must be in JSON format.\n",
        "  \"\"\"\n",
        "\n",
        "\n",
        "  assistant = f\"\"\"\n",
        "  {{\"story\": \"As you flee from the cursed room, you hear the mummy's voice growing louder. Sweat pouring down your face, you make a hasty decision.\", \"options\": [\"Seek help from the village elder.\", \"Search for a way to break the curse.\", \"Abandon your quest and leave the relics behind.\"],\"destruction_points\": [\"0\", \"-5\", \"-10\"]}}\n",
        "  \"\"\"\n",
        "\n",
        "  user = f\"\"\"\n",
        "  Start a new story if the story given below in the square brackets is empty, otherwise continue the story so far following the rules provided earlier.\n",
        "\n",
        "  [{story}]\n",
        "\n",
        "  \"\"\"\n",
        "\n",
        "  # one-shot prompting\n",
        "  chat = [\n",
        "    {\"role\": \"user\", \"content\": system},\n",
        "    {\"role\": \"assistant\", \"content\": assistant},\n",
        "    {\"role\": \"user\", \"content\": user}\n",
        "  ]\n",
        "\n",
        "  # prepare the prompt using the chat template\n",
        "  prompt = tokenizer.apply_chat_template(chat, tokenize=False)\n",
        "  # run the pipeline to generate the model output\n",
        "  outputs = pipe(prompt)\n",
        "  output = outputs[0][\"generated_text\"].strip()\n",
        "\n",
        "  # sometimes the model generates notes/explanation after json so we only parse the first json object\n",
        "  data = parse_first_json(output)\n",
        "  narrative = data[\"story\"]\n",
        "  options = data[\"options\"]\n",
        "  print(narrative)\n",
        "  [print(opt) for opt in options]\n",
        "  user_input = input(\"> \")\n",
        "  print(\"\")\n",
        "\n",
        "  #It is done for RAG\n",
        "  story_for_rag=narrative\n",
        "\n",
        "  print(\".....................................\")\n",
        "  print(\"story_for_rag \",story_for_rag)\n",
        "  print(\".....................................\")\n",
        "  save_to_txt(story_for_rag)\n",
        "  db=make_vdb()\n",
        "\n",
        "\n",
        "\n",
        "  if user_input not in options:\n",
        "    result=make_rag_query(user_input,db)\n",
        "\n",
        "    print(\"Query answer from RAG: \",result)\n",
        "    optimize_res=rag_optimize(result,user_input)\n",
        "    print(\"After optimizing : \",optimize_res)\n",
        "\n",
        "\n",
        "\n",
        "  story += data[\"story\"] + user_input"
      ]
    },
    {
      "cell_type": "code",
      "source": [
        "result=make_rag_query(\"what was a mysterious thing?\",db)\n",
        "result"
      ],
      "metadata": {
        "colab": {
          "base_uri": "https://localhost:8080/",
          "height": 70
        },
        "id": "-QlRooqfzgoI",
        "outputId": "bd511340-f2b5-4061-d2df-358d68018545"
      },
      "execution_count": 14,
      "outputs": [
        {
          "output_type": "execute_result",
          "data": {
            "text/plain": [
              "\"As you explore the ancient ruins, you come across a mysterious artifact. A feeling of unease washes over you, but your curiosity gets the better of you. Taking it with you, you hear a low growl behind you. Suddenly, the temple walls start shaking, and you realize you've awakened something.\""
            ],
            "application/vnd.google.colaboratory.intrinsic+json": {
              "type": "string"
            }
          },
          "metadata": {},
          "execution_count": 14
        }
      ]
    },
    {
      "cell_type": "code",
      "execution_count": null,
      "metadata": {
        "id": "KuiiBjz_fhST"
      },
      "outputs": [],
      "source": [
        "print(prompt)"
      ]
    },
    {
      "cell_type": "code",
      "execution_count": null,
      "metadata": {
        "id": "yj1bLNW63fTj"
      },
      "outputs": [],
      "source": [
        "story"
      ]
    },
    {
      "cell_type": "code",
      "execution_count": null,
      "metadata": {
        "id": "nCMfpWDv4AAE"
      },
      "outputs": [],
      "source": [
        "print(output)"
      ]
    },
    {
      "cell_type": "code",
      "source": [
        "new_db = FAISS.load_local(\"/content/faiss_index\", embeddings,allow_dangerous_deserialization=True)\n"
      ],
      "metadata": {
        "colab": {
          "base_uri": "https://localhost:8080/",
          "height": 141
        },
        "id": "Y1Fzbib60f1I",
        "outputId": "c24c4826-42c5-46f4-a163-78bc9552c01b"
      },
      "execution_count": 11,
      "outputs": [
        {
          "output_type": "error",
          "ename": "NameError",
          "evalue": "name 'embeddings' is not defined",
          "traceback": [
            "\u001b[0;31m---------------------------------------------------------------------------\u001b[0m",
            "\u001b[0;31mNameError\u001b[0m                                 Traceback (most recent call last)",
            "\u001b[0;32m<ipython-input-11-1ff84721ffdc>\u001b[0m in \u001b[0;36m<cell line: 1>\u001b[0;34m()\u001b[0m\n\u001b[0;32m----> 1\u001b[0;31m \u001b[0mnew_db\u001b[0m \u001b[0;34m=\u001b[0m \u001b[0mFAISS\u001b[0m\u001b[0;34m.\u001b[0m\u001b[0mload_local\u001b[0m\u001b[0;34m(\u001b[0m\u001b[0;34m\"/content/faiss_index\"\u001b[0m\u001b[0;34m,\u001b[0m \u001b[0membeddings\u001b[0m\u001b[0;34m,\u001b[0m\u001b[0mallow_dangerous_deserialization\u001b[0m\u001b[0;34m=\u001b[0m\u001b[0;32mTrue\u001b[0m\u001b[0;34m)\u001b[0m\u001b[0;34m\u001b[0m\u001b[0;34m\u001b[0m\u001b[0m\n\u001b[0m",
            "\u001b[0;31mNameError\u001b[0m: name 'embeddings' is not defined"
          ]
        }
      ]
    },
    {
      "cell_type": "code",
      "source": [
        "db"
      ],
      "metadata": {
        "colab": {
          "base_uri": "https://localhost:8080/"
        },
        "id": "Ho0yHXxoLY0-",
        "outputId": "740295ec-ae22-454a-c827-18790382cbd7"
      },
      "execution_count": 16,
      "outputs": [
        {
          "output_type": "execute_result",
          "data": {
            "text/plain": [
              "<langchain_community.vectorstores.faiss.FAISS at 0x7eeddcb40160>"
            ]
          },
          "metadata": {},
          "execution_count": 16
        }
      ]
    },
    {
      "cell_type": "code",
      "source": [],
      "metadata": {
        "id": "e0_YLraSOq9f"
      },
      "execution_count": null,
      "outputs": []
    }
  ],
  "metadata": {
    "accelerator": "GPU",
    "colab": {
      "gpuType": "T4",
      "provenance": []
    },
    "kernelspec": {
      "display_name": "Python 3",
      "name": "python3"
    },
    "language_info": {
      "name": "python"
    }
  },
  "nbformat": 4,
  "nbformat_minor": 0
}